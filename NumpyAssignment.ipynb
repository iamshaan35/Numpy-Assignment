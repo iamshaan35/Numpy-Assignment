{
 "cells": [
  {
   "cell_type": "markdown",
   "id": "39823906-886b-44c2-8cfe-e55f35e51fea",
   "metadata": {},
   "source": [
    "NUMPY ASSIGNMENT"
   ]
  },
  {
   "cell_type": "markdown",
   "id": "b954be04-ab6f-47a3-ba10-6bc40adb0211",
   "metadata": {},
   "source": [
    "'''1. What is a Python library? Why do we use Python libraries?'''\n",
    "\n",
    "\n",
    "\n",
    "Python library is simply a collection of codes or modules of codes that we can use in a program for specific operations\n",
    "Python libraries are collections of reusable code modules that you can integrate into your projects to save time and effort."
   ]
  },
  {
   "cell_type": "code",
   "execution_count": null,
   "id": "8c25684b-5899-48c8-b617-7ac2df83b2a7",
   "metadata": {},
   "outputs": [],
   "source": [
    "#Q2. What is the difference between Numpy array and List?\n",
    "Numpy Array is very faster than List because it is based on C++ programming and "
   ]
  },
  {
   "cell_type": "code",
   "execution_count": 1,
   "id": "efc17062-c162-4f7d-9dd9-a1398a93a748",
   "metadata": {},
   "outputs": [],
   "source": [
    "import numpy as np"
   ]
  },
  {
   "cell_type": "code",
   "execution_count": 4,
   "id": "51033b6c-b674-45ce-805b-c3fb5e5e1efb",
   "metadata": {},
   "outputs": [
    {
     "name": "stdout",
     "output_type": "stream",
     "text": [
      "Dimension of the array a is 2\n",
      "Shape of the array a is (3, 4)\n",
      "Size of the array a is 12\n"
     ]
    }
   ],
   "source": [
    "#Q3.Find the shape, size and dimension of the following array?\n",
    "a = np.array([[1,2,3,4],\n",
    "             [5,6,7,8],\n",
    "             [9,10,11,12]])\n",
    "\n",
    "print(\"Dimension of the array a is\", a.ndim)\n",
    "print(\"Shape of the array a is\", a.shape)\n",
    "print(\"Size of the array a is\", a.size)"
   ]
  },
  {
   "cell_type": "code",
   "execution_count": 10,
   "id": "ce22ec11-d120-4824-a147-26497492ca61",
   "metadata": {},
   "outputs": [
    {
     "data": {
      "text/plain": [
       "array([1, 2, 3, 4])"
      ]
     },
     "execution_count": 10,
     "metadata": {},
     "output_type": "execute_result"
    }
   ],
   "source": [
    "#Q4. Write python code to access the first row of the following array?\n",
    "b = np.array([[1,2,3,4],\n",
    "             [5,6,7,8],\n",
    "             [9,10,11,12]])\n",
    "b[0]"
   ]
  },
  {
   "cell_type": "code",
   "execution_count": 4,
   "id": "23d0c7de-2d8c-4f11-9918-548f63aa1e54",
   "metadata": {},
   "outputs": [
    {
     "data": {
      "text/plain": [
       "12"
      ]
     },
     "execution_count": 4,
     "metadata": {},
     "output_type": "execute_result"
    }
   ],
   "source": [
    "#Q5. How do you access the element at the third row and fourth column from the given numpy array?\n",
    "\n",
    "c= np.array([[1,2,3,4],\n",
    "             [5,6,7,8],\n",
    "             [9,10,11,12]])\n",
    "c[2,3]"
   ]
  },
  {
   "cell_type": "code",
   "execution_count": null,
   "id": "523acc59-52e7-4689-9dd5-74a84a6de5c5",
   "metadata": {},
   "outputs": [],
   "source": [
    "#Q6. Write code to extract all odd-indexed elements from the given numpy array?\n",
    "d= np.array([[1,2,3,4],\n",
    "             [5,6,7,8],\n",
    "             [9,10,11,12]])\n",
    " "
   ]
  },
  {
   "cell_type": "code",
   "execution_count": 12,
   "id": "22a7c0c0-5d40-4b4d-b621-09f6528c8dac",
   "metadata": {},
   "outputs": [
    {
     "data": {
      "text/plain": [
       "array([[0, 1, 1],\n",
       "       [0, 1, 1],\n",
       "       [0, 0, 1]])"
      ]
     },
     "execution_count": 12,
     "metadata": {},
     "output_type": "execute_result"
    }
   ],
   "source": [
    "#7. How can you generate a random 3x3 matrix with values between 0 and 1?\n",
    "arr = np.random.randint(0,2,(3,3))\n",
    "arr"
   ]
  },
  {
   "cell_type": "markdown",
   "id": "2d8936f5-6f7e-421b-96bc-05692636d94c",
   "metadata": {},
   "source": [
    "#8.Describe the difference between np.random.rand and np.random.randn?\n",
    "\n",
    "np.random.rand() - Provides Random Values of a given shape using uniform distribution\n",
    "\n",
    "np.random.randn() - Takes input of non negative values and Provides Random Values of a given shape using normal distribution distribution "
   ]
  },
  {
   "cell_type": "code",
   "execution_count": 37,
   "id": "466e5b06-86ef-48d3-b02e-6f16e0623603",
   "metadata": {},
   "outputs": [
    {
     "name": "stdout",
     "output_type": "stream",
     "text": [
      "Present dimension of the given array is 2D [[ 1  2  3  4]\n",
      " [ 5  6  7  8]\n",
      " [ 9 10 11 12]]\n",
      "Now the dimension has been changed to 3d [[[ 1  2  3  4]\n",
      "  [ 5  6  7  8]\n",
      "  [ 9 10 11 12]]]\n"
     ]
    }
   ],
   "source": [
    "#9. Write code to increase the dimension of the following array?\n",
    "e= np.array([[1,2,3,4],\n",
    "             [5,6,7,8],\n",
    "             [9,10,11,12]])\n",
    "\n",
    "print('Present dimension of the given array is 2D', e)\n",
    "\n",
    "f = np.array([[[1,2,3,4],\n",
    "             [5,6,7,8],\n",
    "             [9,10,11,12]]])\n",
    "\n",
    "print('Now the dimension has been changed to 3d', f)"
   ]
  },
  {
   "cell_type": "code",
   "execution_count": 40,
   "id": "0aedd272-b3b1-44db-bd68-7df4905c3651",
   "metadata": {},
   "outputs": [
    {
     "data": {
      "text/plain": [
       "array([[ 1,  5,  9],\n",
       "       [ 2,  6, 10],\n",
       "       [ 3,  7, 11],\n",
       "       [ 4,  8, 12]])"
      ]
     },
     "execution_count": 40,
     "metadata": {},
     "output_type": "execute_result"
    }
   ],
   "source": [
    "#10. How to transpose the following array in NumPy?\n",
    "f = np.array([[1,2,3,4],\n",
    "             [5,6,7,8],\n",
    "             [9,10,11,12]])\n",
    "g = f.transpose()\n",
    "g #transpose of the following array"
   ]
  },
  {
   "cell_type": "code",
   "execution_count": 14,
   "id": "52767a07-7b33-4ac3-a62f-bb0dcc3b7bdd",
   "metadata": {},
   "outputs": [],
   "source": [
    "#11. Consider the following matrix:\n",
    "A = [1, 2, 3, 4] ,[5, 6, 7, 8],[9, 10, 11, 12]\n",
    "B = [1, 2, 3, 4] ,[5, 6, 7, 8],[9, 10, 11, 12]"
   ]
  },
  {
   "cell_type": "code",
   "execution_count": 17,
   "id": "6030c31a-5d90-478e-ba99-500fe63baf62",
   "metadata": {},
   "outputs": [],
   "source": [
    "Matrix_A2 = np.array([[1, 2, 3, 4],\n",
    "                     [5, 6, 7, 8],\n",
    "                     [9, 10, 11, 12]])"
   ]
  },
  {
   "cell_type": "code",
   "execution_count": 20,
   "id": "ac4f557c-8543-4449-952c-ac728d7fdf67",
   "metadata": {},
   "outputs": [
    {
     "data": {
      "text/plain": [
       "array([[ 1,  2,  3,  4],\n",
       "       [ 5,  6,  7,  8],\n",
       "       [ 9, 10, 11, 12]])"
      ]
     },
     "execution_count": 20,
     "metadata": {},
     "output_type": "execute_result"
    }
   ],
   "source": [
    "Matrix_B2 = np.array(B)\n",
    "Matrix_B2"
   ]
  },
  {
   "cell_type": "code",
   "execution_count": 23,
   "id": "84863d1e-1b9d-4ac0-b42d-206b7431dd98",
   "metadata": {},
   "outputs": [
    {
     "data": {
      "text/plain": [
       "array([[  1,   4,   9,  16],\n",
       "       [ 25,  36,  49,  64],\n",
       "       [ 81, 100, 121, 144]])"
      ]
     },
     "execution_count": 23,
     "metadata": {},
     "output_type": "execute_result"
    }
   ],
   "source": [
    "#1. Index wise multiplication\n",
    "Index_wise_multiplication = Matrix_A2*Matrix_B2\n",
    "Index_wise_multiplication"
   ]
  },
  {
   "cell_type": "code",
   "execution_count": 29,
   "id": "c0c2f824-567b-466b-9991-492f6424b31c",
   "metadata": {},
   "outputs": [
    {
     "data": {
      "text/plain": [
       "array([[  1,   4,   9,  16],\n",
       "       [ 25,  36,  49,  64],\n",
       "       [ 81, 100, 121, 144]])"
      ]
     },
     "execution_count": 29,
     "metadata": {},
     "output_type": "execute_result"
    }
   ],
   "source": [
    "#2. Matix multiplication\n",
    "Matrix_multiplication = np.multiply(Matrix_A2,Matrix_B2)\n",
    "Matrix_multiplication"
   ]
  },
  {
   "cell_type": "code",
   "execution_count": 30,
   "id": "ed377996-8d70-4a90-802f-dec11aacd9e2",
   "metadata": {},
   "outputs": [
    {
     "data": {
      "text/plain": [
       "array([[ 2,  4,  6,  8],\n",
       "       [10, 12, 14, 16],\n",
       "       [18, 20, 22, 24]])"
      ]
     },
     "execution_count": 30,
     "metadata": {},
     "output_type": "execute_result"
    }
   ],
   "source": [
    "#3.Add both the matrix\n",
    "Matrix_add = np.add(Matrix_A2,Matrix_B2)\n",
    "Matrix_add"
   ]
  },
  {
   "cell_type": "code",
   "execution_count": 33,
   "id": "c49215fa-4293-4839-889f-65294b6f3305",
   "metadata": {},
   "outputs": [
    {
     "data": {
      "text/plain": [
       "array([[0, 0, 0, 0],\n",
       "       [0, 0, 0, 0],\n",
       "       [0, 0, 0, 0]])"
      ]
     },
     "execution_count": 33,
     "metadata": {},
     "output_type": "execute_result"
    }
   ],
   "source": [
    "#4. Subtract matrix B from A\n",
    "Matrix_sub = np.subtract(Matrix_B2,Matrix_A2)\n",
    "Matrix_sub"
   ]
  },
  {
   "cell_type": "code",
   "execution_count": 34,
   "id": "735aaffa-8923-429f-ab48-a50048cc9e8b",
   "metadata": {},
   "outputs": [
    {
     "data": {
      "text/plain": [
       "array([[1., 1., 1., 1.],\n",
       "       [1., 1., 1., 1.],\n",
       "       [1., 1., 1., 1.]])"
      ]
     },
     "execution_count": 34,
     "metadata": {},
     "output_type": "execute_result"
    }
   ],
   "source": [
    "#5.Divide Matix B by A\n",
    "Matrix_div = np.divide(Matrix_B2,Matrix_A2)\n",
    "Matrix_div"
   ]
  },
  {
   "cell_type": "markdown",
   "id": "8262e8fa-2887-4b5e-9d0e-5b30f9d4c0ba",
   "metadata": {},
   "source": [
    "#12. Which function in Numpy can be used to swap the byte order of an array?\n",
    "\n",
    "np.ndarray.byteswap()"
   ]
  },
  {
   "cell_type": "markdown",
   "id": "cd592448-2093-4834-a143-a2a5c654f495",
   "metadata": {},
   "source": [
    "13. What is the significance of the np.linalg.inv function?\n",
    "\n",
    "np.linalg.inv --> We use numpy.linalg.inv() function to calculate the inverse of a matrix"
   ]
  },
  {
   "cell_type": "code",
   "execution_count": 45,
   "id": "3079e4b6-1dde-4896-8e5a-319669ceb612",
   "metadata": {},
   "outputs": [],
   "source": [
    "arr2 = np.array([[ 1,  2,  3], [ 5,  6,  7],[ 9, 10, 11]])"
   ]
  },
  {
   "cell_type": "code",
   "execution_count": 46,
   "id": "d7f77f14-9536-4a58-a15b-77687a7580cf",
   "metadata": {},
   "outputs": [
    {
     "data": {
      "text/plain": [
       "array([[ 5.62949953e+14, -1.12589991e+15,  5.62949953e+14],\n",
       "       [-1.12589991e+15,  2.25179981e+15, -1.12589991e+15],\n",
       "       [ 5.62949953e+14, -1.12589991e+15,  5.62949953e+14]])"
      ]
     },
     "execution_count": 46,
     "metadata": {},
     "output_type": "execute_result"
    }
   ],
   "source": [
    "np.linalg.inv(arr2)"
   ]
  },
  {
   "cell_type": "markdown",
   "id": "3461840f-5e64-4dd1-b289-5c2968bc9177",
   "metadata": {},
   "source": [
    "14. What does the np.reshape function do, and how is it used?\n",
    "\n",
    "np.reshape is used to change the shape of the array without changing its data"
   ]
  },
  {
   "cell_type": "code",
   "execution_count": 49,
   "id": "4f9a1613-1abe-47cf-afc6-94b6fe53de44",
   "metadata": {},
   "outputs": [],
   "source": [
    "arr3 = np.array([[ 1,  2], [ 5,  6],[ 9, 10]])"
   ]
  },
  {
   "cell_type": "code",
   "execution_count": 57,
   "id": "80b5a6b6-9aef-403a-8d4d-7a769fa37b0e",
   "metadata": {},
   "outputs": [
    {
     "data": {
      "text/plain": [
       "array([[ 1,  2],\n",
       "       [ 5,  6],\n",
       "       [ 9, 10]])"
      ]
     },
     "execution_count": 57,
     "metadata": {},
     "output_type": "execute_result"
    }
   ],
   "source": [
    "np.reshape(arr3, (3,2))"
   ]
  },
  {
   "cell_type": "markdown",
   "id": "8a5291d4-b2ee-4600-9f5f-e6815316e798",
   "metadata": {},
   "source": [
    "15. What is broadcasting in Numpy?\n",
    "\n",
    "The term broadcasting refers to the ability of NumPy to treat arrays of different shapes during arithmetic operations."
   ]
  },
  {
   "cell_type": "code",
   "execution_count": null,
   "id": "6373dda8-971e-4a08-b2f1-8662477b4fd1",
   "metadata": {},
   "outputs": [],
   "source": []
  }
 ],
 "metadata": {
  "kernelspec": {
   "display_name": "Python 3 (ipykernel)",
   "language": "python",
   "name": "python3"
  },
  "language_info": {
   "codemirror_mode": {
    "name": "ipython",
    "version": 3
   },
   "file_extension": ".py",
   "mimetype": "text/x-python",
   "name": "python",
   "nbconvert_exporter": "python",
   "pygments_lexer": "ipython3",
   "version": "3.10.8"
  }
 },
 "nbformat": 4,
 "nbformat_minor": 5
}
